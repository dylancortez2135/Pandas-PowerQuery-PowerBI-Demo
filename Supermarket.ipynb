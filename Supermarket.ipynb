{
 "cells": [
  {
   "cell_type": "code",
   "execution_count": 11,
   "id": "1140b247-fcd7-4bee-8415-49b399eb0336",
   "metadata": {},
   "outputs": [],
   "source": [
    "import pandas as pd\n",
    "import numpy as np\n",
    "import seaborn as sns\n",
    "import matplotlib.pyplot as plt\n",
    "pd.set_option('display.max.columns', None)"
   ]
  },
  {
   "cell_type": "code",
   "execution_count": 31,
   "id": "80252cea-57e8-43f7-a2d9-a5730e2eeb45",
   "metadata": {},
   "outputs": [],
   "source": [
    "df = pd.read_csv(r\"C:\\Users\\Admin\\OneDrive\\Pictures\\dylan profile\\dylan gr11\\Dylan\\Data analyst Dylan\\PANDAS\\SANAYAN LANG BOSS\\Supermarket\\SuperMarket Analysis.csv\")"
   ]
  },
  {
   "cell_type": "code",
   "execution_count": 48,
   "id": "571bce9a-7440-4d2e-8529-7d0676cb1412",
   "metadata": {},
   "outputs": [
    {
     "data": {
      "text/plain": [
       "<Axes: >"
      ]
     },
     "execution_count": 48,
     "metadata": {},
     "output_type": "execute_result"
    }
   ],
   "source": [
    "# DATA IS CLEAN. BUT WE ARE CREATING A BOXPLOT FIRST TO LOCATE IF THERE ARE OUTLIERS IN THE DATA. \n",
    "\n",
    "df[['Sales', 'cogs', 'Tax 5%', 'Rating', 'Quantity', 'Unit price']].boxplot()\n",
    "plt.show()\n",
    "\n",
    "# VALIDATING THE OUTLIERS\n",
    "df.sort_values(by='Sales', ascending=False).head(10)\n",
    "df.sort_values(by='cogs', ascending=False).head(10)\n",
    "df.sort_values(by='Tax 5%', ascending=False).head(10)\n",
    "# OUTLIERS ARE VALID"
   ]
  },
  {
   "cell_type": "code",
   "execution_count": 49,
   "id": "9a8b31c9-e767-463f-9a15-7795d47fb458",
   "metadata": {},
   "outputs": [],
   "source": [
    "# 1.1 GETTING THE SUM OF SALES OF ALL BRANCHES\n",
    "\n",
    "df.groupby('Branch')['Sales'].sum()"
   ]
  },
  {
   "cell_type": "code",
   "execution_count": 50,
   "id": "b28f07aa-07ac-45a0-bf22-f2ec0da992b0",
   "metadata": {},
   "outputs": [],
   "source": [
    "# 1.2 GETTING THE SUM OF SALES OF ALL PRODUCT LINES\n",
    "\n",
    "df.groupby('Product line')['Sales'].sum()"
   ]
  },
  {
   "cell_type": "code",
   "execution_count": 51,
   "id": "35860d44-f950-4ace-98b6-10de7330fed9",
   "metadata": {},
   "outputs": [],
   "source": [
    "# 1.3 EXTRACTING THE DAY OF THE WEEK AND THE HOUR OF THE DAY FROM THE DATE & TIME COLUMN\n",
    "from datetime import datetime\n",
    "\n",
    "df['Date'] = pd.to_datetime(df['Date'])\n",
    "df['Day_of_week'] = df['Date'].dt.day_name()\n",
    "df['Time_of_day'] = pd.to_datetime(df['Time'], format='%I:%M:%S %p').dt.time\n",
    "df['Time_of_day'] = pd.to_datetime(df['Time_of_day'], format= '%H:%M:%S')\n",
    "df['Date_time'] = df['Date'] + pd.to_timedelta(df['Time_of_day'].dt.hour, unit='h') \\\n",
    "                                            + pd.to_timedelta(df['Time_of_day'].dt.minute, unit='m') \\\n",
    "                                            + pd.to_timedelta(df['Time_of_day'].dt.second, unit='s')\n",
    "df.drop(columns=['Time_of_day'], inplace=True)\n",
    "df['Hour_of_day'] = df['Date_time'].dt.hour\n",
    "\n",
    "df.groupby('Hour_of_day')['Sales'].sum()\n",
    "df.groupby('Day_of_week')['Sales'].sum()\n",
    "\n",
    "# WILL USE POWER QUERY TO EXTRACT THE DAY OF THE WEEK AND THE HOUR OF THE DAY"
   ]
  },
  {
   "cell_type": "code",
   "execution_count": 52,
   "id": "a55c0bba-1efc-468b-9e50-896fac89e5f7",
   "metadata": {},
   "outputs": [],
   "source": [
    "# 1.4 GETTING THE AVERAGE TRANSACTION VALUE\n",
    "\n",
    "df['Sales'].mean()"
   ]
  },
  {
   "cell_type": "code",
   "execution_count": 37,
   "id": "24f18467-405c-4fd0-8bcb-84741bc212d3",
   "metadata": {},
   "outputs": [],
   "source": [
    "# 1.5 ADDING A Transaction_category COLUMN\n",
    "\n",
    "cogs_conditions = [df['Sales'] >= 471.350250,\n",
    "                  (df['Sales'] >= 253.848000) & (df['Sales'] < 471.350250),\n",
    "                  df['Sales'] < 253.848000]\n",
    "\n",
    "cogs_categories = ['High Value', 'Middle Value', 'Low Value']\n",
    "\n",
    "df['Transaction_category'] = np.select(cogs_conditions, cogs_categories)\n",
    "\n",
    "# WILL USE POWER QUERY TO ADD THE SAME COLUMN IN THE DATASET"
   ]
  },
  {
   "cell_type": "code",
   "execution_count": 39,
   "id": "7001d5f5-c4c6-4d78-949f-8caadc88e2e6",
   "metadata": {},
   "outputs": [],
   "source": [
    "# 2.1 GETTING THE RATIO OF EACH GENDER'S PURCHASE BY PRODCT LINE\n",
    "\n",
    "subtotals_gender_by_product_line = df.groupby(['Gender', 'Product line']).size().reset_index(name='count')\n",
    "totals_gender_by_product_line = subtotals_gender_by_product_line.groupby('Gender')['count'].transform('sum')\n",
    "subtotals_gender_by_product_line['ratio'] = subtotals_gender_by_product_line['count']/totals_gender_by_product_line\n",
    "ratio_gender_product_line = subtotals_gender_by_product_line.pivot(index='Product line', columns='Gender', values='ratio')\n",
    "\n",
    "# CREATING A FILE PATH TO EXPORT THE DATAFRAMES TO\n",
    "\n",
    "filepath = r\"C:\\Users\\Admin\\OneDrive\\Pictures\\dylan profile\\dylan gr11\\Dylan\\Data analyst Dylan\\PANDAS\\SANAYAN LANG BOSS\\Supermarket\\supermarket_ratios.xlsx\"\n",
    "\n",
    "with pd.ExcelWriter(filepath, engine='openpyxl', mode='w') as writer:\n",
    "    ratio_gender_product_line.to_excel(writer, sheet_name='gender_product')\n",
    "\n",
    "# CREATING AN EXCEL EXPORTER FUNCTION:\n",
    "\n",
    "def excel_exporter(df, file_path, sheet_name):\n",
    "    with pd.ExcelWriter(file_path, engine='openpyxl', mode='a', if_sheet_exists='replace') as writer:\n",
    "        df.to_excel(writer, sheet_name=sheet_name)"
   ]
  },
  {
   "cell_type": "code",
   "execution_count": 53,
   "id": "a90579f2-10b7-49c2-afaa-a3e3ab2b3f21",
   "metadata": {},
   "outputs": [],
   "source": [
    "# 2.2 GETTING THE CORRELATION BETWEEN QUANTITY AND RATING\n",
    "\n",
    "df['Quantity'].corr(df['Rating'])"
   ]
  },
  {
   "cell_type": "code",
   "execution_count": 41,
   "id": "3e1a39fc-d680-4a40-8987-8be8eb0fe12a",
   "metadata": {},
   "outputs": [],
   "source": [
    "# 2.3 GETTING THE RATIO OF EACH CUSTOMER TYPE'S PURCHASE BY PAYMENT TYPE\n",
    "\n",
    "subtotals_customertype_by_payment = df.groupby(['Customer type', 'Payment']).size().reset_index(name='count')\n",
    "totals_customertype_by_payment = subtotals_customertype_by_payment.groupby('Customer type')['count'].transform('sum')\n",
    "subtotals_customertype_by_payment['ratio'] = subtotals_customertype_by_payment['count']/totals_customertype_by_payment\n",
    "ratio_customertype_by_payment = subtotals_customertype_by_payment.pivot(index='Payment', columns='Customer type', values='ratio')\n",
    "\n",
    "# CALLING EXCEL EXCEL EXPORTER\n",
    "excel_exporter(ratio_customertype_by_payment, filepath, 'customertype_payment')"
   ]
  },
  {
   "cell_type": "code",
   "execution_count": 42,
   "id": "38fae03f-4ff7-4cff-9aac-35b7b6839729",
   "metadata": {},
   "outputs": [],
   "source": [
    "# 2.4 GETTING THE RATIO OF EACH CUSTOMER TYPE'S TRANSACTION CATEGORY\n",
    "\n",
    "subtotals_customertype_by_transaction = df.groupby(['Customer type', 'Transaction_category']).size().reset_index(name='count')\n",
    "totals_customertype_by_transaction = subtotals_customertype_by_transaction.groupby('Customer type')['count'].transform('sum')\n",
    "subtotals_customertype_by_transaction['ratio'] = subtotals_customertype_by_transaction['count']/totals_customertype_by_transaction\n",
    "ratio_customertype_by_transaction = subtotals_customertype_by_transaction.pivot(index='Transaction_category', columns='Customer type', values='ratio')\n",
    "\n",
    "# CALLING EXCEL EXCEL EXPORTER\n",
    "excel_exporter(ratio_customertype_by_transaction, filepath, 'customertype_transaction')"
   ]
  },
  {
   "cell_type": "code",
   "execution_count": 54,
   "id": "adc75c45-a002-47a9-85b6-01cb6f264923",
   "metadata": {},
   "outputs": [],
   "source": [
    "# 2.5 GETTING THE SUM OF SALE OF EACH CUSTOMER TYPES\n",
    "\n",
    "df.groupby('Customer type')['Sales'].sum()"
   ]
  },
  {
   "cell_type": "code",
   "execution_count": 55,
   "id": "41bcb1a6-8945-4ca0-938d-7d600ae16d21",
   "metadata": {},
   "outputs": [],
   "source": [
    "# 2.6 GETTING THE AVERAGE RATINGS OF EACH CUSTOMER TYPES\n",
    "\n",
    "df.groupby('Customer type')['Rating'].mean()"
   ]
  },
  {
   "cell_type": "code",
   "execution_count": 44,
   "id": "a8ac604b-c5ec-4474-b243-69110ee33249",
   "metadata": {},
   "outputs": [],
   "source": [
    "# 3.1 GETTING THE GROSS INCOME PERCENTAGE OF EACH BRANCH\n",
    "\n",
    "sum_of_sales_per_branch = df.groupby('Branch')['Sales'].sum().reset_index(name='sum_of_sales')\n",
    "sum_of_cogs_per_branch = df.groupby('Branch')['cogs'].sum().reset_index(name='sum_of_cogs')\n",
    "branch_data = pd.merge(sum_of_sales_per_branch, sum_of_cogs_per_branch, on='Branch')\n",
    "branch_data['gross_income'] = branch_data['sum_of_sales'] - branch_data['sum_of_cogs']\n",
    "branch_data['gross_income_margin'] = (branch_data['gross_income']/branch_data['sum_of_sales'])*100\n",
    "branch_data\n",
    "\n",
    "# SO THAT\"S WHY GROSS MARGIN PERCENTAGE IS CONSISTENT ACROSS THE DATAFRAME... I WAS ONLY ABLE TO UNDERSTAND IT NOW.\n",
    "# CALLING EXCEL EXCEL EXPORTER\n",
    "excel_exporter(branch_data, filepath, 'branch_data')"
   ]
  },
  {
   "cell_type": "code",
   "execution_count": 56,
   "id": "f1d0d4d4-9820-414e-aa7e-eef6be618d17",
   "metadata": {},
   "outputs": [],
   "source": [
    "# 3.2 CHECKING THE GROSS INCOME PER PRODUCT LINE\n",
    "\n",
    "df.groupby('Product line')['gross income'].sum()"
   ]
  },
  {
   "cell_type": "code",
   "execution_count": 57,
   "id": "4560b587-dd2e-4c4e-bc10-365e64b140ea",
   "metadata": {},
   "outputs": [],
   "source": [
    "# 3.3 (1.2) GETTING THE SUM OF SALES OF ALL PRODUCT LINES\n",
    "\n",
    "df.groupby('Product line')['Sales'].sum()"
   ]
  },
  {
   "cell_type": "code",
   "execution_count": 58,
   "id": "000f32a9-811c-4fd6-af16-6422ca381cc3",
   "metadata": {},
   "outputs": [],
   "source": [
    "# ASKING CHATGPT TO CREATE A BOXPLOT LIKE THE ONE AT THE START OF THE PROJECT BUT CUSTOMIZED ACCORDING TO THE THEME OF THE DASHBOARD.\n",
    "    \n",
    "box_color = \"#2ECC71\"      # green/teal for box outlines\n",
    "median_color = \"#F1C40F\"   # gold/yellow for median\n",
    "bg_color = \"none\"          # transparent\n",
    "grid_color = \"#555555\"     # subtle gray grid\n",
    "font_family = \"Segoe UI\"   # matches Power BI default\n",
    "\n",
    "cols = ['Sales', 'cogs', 'Tax 5%', 'Rating', 'Quantity', 'Unit price']\n",
    "\n",
    "fig, ax = plt.subplots(figsize=(12, 6))\n",
    "\n",
    "# Transparent background for seamless Power BI integration\n",
    "fig.patch.set_alpha(0)\n",
    "ax.set_facecolor(\"none\")\n",
    "\n",
    "# Boxplot with custom props\n",
    "boxprops = dict(color=box_color, linewidth=1.5)\n",
    "whiskerprops = dict(color=box_color, linewidth=1.5)\n",
    "capprops = dict(color=box_color, linewidth=1.5)\n",
    "medianprops = dict(color=median_color, linewidth=2)\n",
    "flierprops = dict(marker='o', markerfacecolor=median_color, markersize=6, linestyle='none', alpha=0.7)\n",
    "\n",
    "df[cols].boxplot(ax=ax, boxprops=boxprops, whiskerprops=whiskerprops,\n",
    "                 capprops=capprops, medianprops=medianprops, flierprops=flierprops)\n",
    "\n",
    "# Labels and title in white\n",
    "#ax.set_title(\"Sales, COGS, Tax, Rating, Quantity, Unit Price\", fontsize=14, fontname=font_family, fontweight='bold', color=\"white\")\n",
    "ax.set_ylabel(\"Value\", fontsize=20, fontname=font_family, color=\"white\")\n",
    "ax.tick_params(axis='x', labelrotation=30, colors=\"white\")\n",
    "ax.tick_params(axis='y', colors=\"white\")\n",
    "plt.xticks(fontsize=20)\n",
    "\n",
    "# Subtle grid\n",
    "ax.grid(color=grid_color, linestyle='--', linewidth=0.5, alpha=0.5)\n",
    "\n",
    "plt.tight_layout()\n",
    "plt.show()"
   ]
  },
  {
   "cell_type": "code",
   "execution_count": 47,
   "id": "26a2db0e-6182-4a4b-9f2b-bbaf1cfc4d71",
   "metadata": {},
   "outputs": [],
   "source": [
    "### QUESTIONS\n",
    "\n",
    "### 1. Sales Performance Analysis\n",
    "\n",
    "# 1.1 Which branch generates the highest revenue?\n",
    "\n",
    "# 1.2 What is the sum of sales per product line?\n",
    "\n",
    "# 1.3 Which day of the week or time of day has the highest sales?\n",
    "\n",
    "# 1.4 What is the average transaction value?\n",
    "\n",
    "# 1.5 Which payment method is most popular among high-value transactions?\n",
    "\n",
    "\n",
    "\n",
    "### 2. Customer Behavior & Segmentation\n",
    "\n",
    "# 2.1 Do men and women prefer different product lines?\n",
    "\n",
    "# 2.2 Is there a correlation between the quantity purchased and the customer rating?\n",
    "\n",
    "# 2.3 - 2.6 Are there noticeable differences in purchasing behavior between Members and Normal customers?\n",
    "    # 2.3 Payment Type\n",
    "    # 2.4 Transaction Type\n",
    "    # 2.5 Sales\n",
    "    # 2.6 Ratings\n",
    "\n",
    "\n",
    "\n",
    "### 3. Profitability & Operational Insights\n",
    "\n",
    "# 3.1 Which branch or city has the highest gross income margin?\n",
    "\n",
    "# 3.2 What is the gross income per product line?\n",
    "\n",
    "# 3.3 Are there underperforming product lines in ratings?\n",
    "\n",
    "\n",
    "\n",
    "### 4. Marketing & Business Strategy\n",
    "\n",
    "# Which product line should the supermarket promote more based on profitability and popularity?\n",
    "\n",
    "# Which branch should the company invest more in based on sales growth potential?\n",
    "\n",
    "# Can we segment customers based on their buying behavior or product preferences?\n",
    "\n",
    "# Are promotions or discounts during certain times/days likely to improve revenue?\n",
    "\n",
    "# Can we identify cross-sell or upsell opportunities based on purchase patterns?"
   ]
  }
 ],
 "metadata": {
  "kernelspec": {
   "display_name": "Python [conda env:base] *",
   "language": "python",
   "name": "conda-base-py"
  },
  "language_info": {
   "codemirror_mode": {
    "name": "ipython",
    "version": 3
   },
   "file_extension": ".py",
   "mimetype": "text/x-python",
   "name": "python",
   "nbconvert_exporter": "python",
   "pygments_lexer": "ipython3",
   "version": "3.12.4"
  }
 },
 "nbformat": 4,
 "nbformat_minor": 5
}
